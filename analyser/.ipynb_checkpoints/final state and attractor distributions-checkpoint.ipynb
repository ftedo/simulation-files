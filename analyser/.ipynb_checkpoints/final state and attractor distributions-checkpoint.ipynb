{
 "cells": [
  {
   "cell_type": "code",
   "execution_count": 25,
   "metadata": {},
   "outputs": [],
   "source": [
    "import pandas as pd\n",
    "import matplotlib.pyplot as plt\n",
    "import pickle\n",
    "import numpy as np\n",
    "import matplotlib\n",
    "matplotlib.style.use('seaborn')"
   ]
  },
  {
   "cell_type": "code",
   "execution_count": 26,
   "metadata": {},
   "outputs": [],
   "source": [
    "def read(path):\n",
    "    df = pd.read_excel(path+\"Final_states.xlsx\", index_col=0)\n",
    "    return df.transpose()"
   ]
  },
  {
   "cell_type": "code",
   "execution_count": 27,
   "metadata": {},
   "outputs": [],
   "source": [
    "def get_init_final_states_attractors(df):\n",
    "    states = df.index.to_numpy()\n",
    "    initial_states = []\n",
    "    attractors = []\n",
    "    for i in states:\n",
    "        tomb = i.split('_')\n",
    "        init = tomb[0]\n",
    "        final = tomb[len(tomb)-1]\n",
    "        initial_states.append(init)\n",
    "        attractors.append(final)\n",
    "        \n",
    "    final_states = []\n",
    "    for a in attractors:\n",
    "        state = \"\"\n",
    "        for i in a:\n",
    "            if not i.isdigit():\n",
    "                state = state + i\n",
    "        final_states.append(state)\n",
    "            \n",
    "    return attractors, initial_states, final_states"
   ]
  },
  {
   "cell_type": "code",
   "execution_count": 28,
   "metadata": {},
   "outputs": [],
   "source": [
    "def add_cloumns(df, initial_states, final_states, attractors):\n",
    "    df.insert(0, 'initial_state', initial_states)\n",
    "    df.insert(0, 'final_state', final_states)\n",
    "    df.insert(0, 'attractors', attractors)\n",
    "    return df"
   ]
  },
  {
   "cell_type": "code",
   "execution_count": 40,
   "metadata": {},
   "outputs": [],
   "source": [
    "def draw(df):\n",
    "    df2 = pd.DataFrame(df.groupby(['initial_state', 'final_state'])['count'].sum())\n",
    "    df3 = df2.reset_index()\n",
    "    init = df3['initial_state'].unique()\n",
    "    final = df3.final_state.unique()\n",
    "    matrix = [{fin: df2.loc[init_s, fin][0] if fin in df2.loc[init_s].index else 0 for fin in final} for init_s in init]\n",
    "    pd.DataFrame(matrix, index=init).plot.bar(stacked=True)\n",
    "    plt.legend(loc='upper left', bbox_to_anchor=(1.0, 1.0))\n",
    "    plt.show()"
   ]
  },
  {
   "cell_type": "markdown",
   "metadata": {},
   "source": [
    "# Init"
   ]
  },
  {
   "cell_type": "code",
   "execution_count": 42,
   "metadata": {},
   "outputs": [
    {
     "data": {
      "image/png": "[encoded data removed]",
      "text/plain": [
       "<Figure size 576x396 with 1 Axes>"
      ]
     },
     "metadata": {},
     "output_type": "display_data"
    }
   ],
   "source": [
    "df = read(\"\")\n",
    "attractors, initial_states, final_states = get_init_final_states_attractors(df)\n",
    "df = add_cloumns(df, initial_states, final_states, attractors)\n",
    "draw(df)"
   ]
  },
  {
   "cell_type": "code",
   "execution_count": null,
   "metadata": {},
   "outputs": [],
   "source": []
  }
 ],
 "metadata": {
  "kernelspec": {
   "display_name": "Python 3",
   "language": "python",
   "name": "python3"
  },
  "language_info": {
   "codemirror_mode": {
    "name": "ipython",
    "version": 3
   },
   "file_extension": ".py",
   "mimetype": "text/x-python",
   "name": "python",
   "nbconvert_exporter": "python",
   "pygments_lexer": "ipython3",
   "version": "3.7.6"
  }
 },
 "nbformat": 4,
 "nbformat_minor": 4
}
