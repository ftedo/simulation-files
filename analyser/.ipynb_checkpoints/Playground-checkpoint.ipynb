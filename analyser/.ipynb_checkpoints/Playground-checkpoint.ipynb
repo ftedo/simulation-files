{
 "cells": [
  {
   "cell_type": "code",
   "execution_count": null,
   "metadata": {},
   "outputs": [],
   "source": [
    "import pandas as pd\n",
    "import matplotlib.pyplot as plt\n",
    "import pickle\n",
    "import numpy as np\n",
    "import matplotlib\n",
    "matplotlib.style.use('ggplot')"
   ]
  },
  {
   "cell_type": "code",
   "execution_count": null,
   "metadata": {},
   "outputs": [],
   "source": [
    "def read(file_name, sheet_name, project = True): \n",
    "    df = pd.read_excel(file_name, sheet_name = sheet_name)\n",
    "    df.head()\n",
    "    df = df.rename(columns={SOURCE: 'source', TARGET: 'target', LINK_WEIGHT : 'weight', DIRECTION : 'direction'})\n",
    "    if project:\n",
    "        return df[['source', 'target', 'weight', 'direction']]\n",
    "    return df"
   ]
  }
 ],
 "metadata": {
  "kernelspec": {
   "display_name": "Python 3",
   "language": "python",
   "name": "python3"
  },
  "language_info": {
   "codemirror_mode": {
    "name": "ipython",
    "version": 3
   },
   "file_extension": ".py",
   "mimetype": "text/x-python",
   "name": "python",
   "nbconvert_exporter": "python",
   "pygments_lexer": "ipython3",
   "version": "3.7.6"
  }
 },
 "nbformat": 4,
 "nbformat_minor": 4
}
